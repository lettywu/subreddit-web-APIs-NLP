{
 "cells": [
  {
   "cell_type": "markdown",
   "metadata": {},
   "source": [
    "#### In this notebook, I am going to pull posts from 2 different subreddits from Reddit.com"
   ]
  },
  {
   "cell_type": "code",
   "execution_count": 1,
   "metadata": {},
   "outputs": [],
   "source": [
    "import requests\n",
    "import pandas as pd\n",
    "import time"
   ]
  },
  {
   "cell_type": "markdown",
   "metadata": {},
   "source": [
    "# pull 2000 posts from subreddit Nutrition"
   ]
  },
  {
   "cell_type": "markdown",
   "metadata": {},
   "source": [
    "try to write the code line by line here, so I can create a function later"
   ]
  },
  {
   "cell_type": "code",
   "execution_count": 2,
   "metadata": {},
   "outputs": [],
   "source": [
    "url='https://api.pushshift.io/reddit/search/submission'"
   ]
  },
  {
   "cell_type": "code",
   "execution_count": 3,
   "metadata": {},
   "outputs": [
    {
     "data": {
      "text/plain": [
       "1610158205.502051"
      ]
     },
     "execution_count": 3,
     "metadata": {},
     "output_type": "execute_result"
    }
   ],
   "source": [
    "time.time() #current time in utc"
   ]
  },
  {
   "cell_type": "code",
   "execution_count": 4,
   "metadata": {
    "scrolled": true
   },
   "outputs": [],
   "source": [
    "params = {'subreddit':'nutrition','size':100,'before':round(time.time())}"
   ]
  },
  {
   "cell_type": "code",
   "execution_count": 5,
   "metadata": {},
   "outputs": [],
   "source": [
    "res=requests.get(url,params)"
   ]
  },
  {
   "cell_type": "code",
   "execution_count": 6,
   "metadata": {},
   "outputs": [],
   "source": [
    "post_df=pd.DataFrame(res.json()['data'])"
   ]
  },
  {
   "cell_type": "code",
   "execution_count": 7,
   "metadata": {},
   "outputs": [
    {
     "data": {
      "text/plain": [
       "(100, 64)"
      ]
     },
     "execution_count": 7,
     "metadata": {},
     "output_type": "execute_result"
    }
   ],
   "source": [
    "post_df.shape"
   ]
  },
  {
   "cell_type": "code",
   "execution_count": 8,
   "metadata": {},
   "outputs": [
    {
     "data": {
      "text/plain": [
       "0    1610153989\n",
       "1    1610153112\n",
       "2    1610151791\n",
       "3    1610151114\n",
       "4    1610150297\n",
       "5    1610147759\n",
       "6    1610147409\n",
       "7    1610139817\n",
       "8    1610136667\n",
       "9    1610136250\n",
       "Name: created_utc, dtype: int64"
      ]
     },
     "execution_count": 8,
     "metadata": {},
     "output_type": "execute_result"
    }
   ],
   "source": [
    "post_df['created_utc'][:10]"
   ]
  },
  {
   "cell_type": "markdown",
   "metadata": {},
   "source": [
    "create a function here to pull 2000 posts at once"
   ]
  },
  {
   "cell_type": "code",
   "execution_count": 10,
   "metadata": {},
   "outputs": [
    {
     "name": "stdout",
     "output_type": "stream",
     "text": [
      "res 1 code: 200\n",
      "res 2 code: 200\n",
      "res 3 code: 200\n",
      "res 4 code: 200\n",
      "res 5 code: 200\n",
      "res 6 code: 200\n",
      "res 7 code: 200\n",
      "res 8 code: 200\n",
      "res 9 code: 200\n",
      "res 10 code: 200\n",
      "res 11 code: 200\n",
      "res 12 code: 200\n",
      "res 13 code: 200\n",
      "res 14 code: 200\n",
      "res 15 code: 200\n",
      "res 16 code: 200\n",
      "res 17 code: 200\n",
      "res 18 code: 200\n",
      "res 19 code: 200\n",
      "res 20 code: 200\n"
     ]
    }
   ],
   "source": [
    "#credit:pushshift.io practice \n",
    "#https://git.generalassemb.ly/DSIR-1116/pushshift/blob/master/pushshift_practice.ipynb\n",
    "\n",
    "dfs=[]      \n",
    "loops=20\n",
    "subreddit='nutrition'\n",
    "start_time=time.time()    #return current utc time\n",
    "\n",
    "params = {'subreddit':subreddit,'size':100,'before':round(start_time)}\n",
    "                                    #before current time, so older posts\n",
    "\n",
    "for i in range(loops):   \n",
    "    #requesting data\n",
    "    res=requests.get(url,params)\n",
    "    print(f'res {i+1} code:',res.status_code)\n",
    "    \n",
    "    post_df=pd.DataFrame(res.json()['data'])\n",
    "    dfs.append(post_df)     # append dataframe from each loop into the dfs list\n",
    "    \n",
    "    #get oldest post time and use as before parameter in next request\n",
    "    oldest_utc=post_df['created_utc'].min()\n",
    "    params['before']=oldest_utc\n",
    "    \n",
    "    time.sleep(1)\n",
    "    \n",
    "nutrition_subr=pd.concat(dfs)"
   ]
  },
  {
   "cell_type": "code",
   "execution_count": 11,
   "metadata": {},
   "outputs": [],
   "source": [
    "#merge title column and selftext column\n",
    "nutrition_subr['title_text']=nutrition_subr['title']+' '+nutrition_subr['selftext']"
   ]
  },
  {
   "cell_type": "code",
   "execution_count": 12,
   "metadata": {},
   "outputs": [],
   "source": [
    "#convert the utc time to datetime\n",
    "nutrition_subr['datetime']=pd.to_datetime(nutrition_subr['created_utc'],unit='s')"
   ]
  },
  {
   "cell_type": "code",
   "execution_count": 13,
   "metadata": {},
   "outputs": [],
   "source": [
    "#create a new dataframe with columns I need to use\n",
    "nutrition_subr_df=nutrition_subr[['subreddit','title_text','title','selftext','datetime']].copy()"
   ]
  },
  {
   "cell_type": "code",
   "execution_count": 14,
   "metadata": {},
   "outputs": [
    {
     "data": {
      "text/plain": [
       "(2000, 5)"
      ]
     },
     "execution_count": 14,
     "metadata": {},
     "output_type": "execute_result"
    }
   ],
   "source": [
    "nutrition_subr_df.shape"
   ]
  },
  {
   "cell_type": "code",
   "execution_count": 23,
   "metadata": {
    "scrolled": true
   },
   "outputs": [
    {
     "data": {
      "text/html": [
       "<div>\n",
       "<style scoped>\n",
       "    .dataframe tbody tr th:only-of-type {\n",
       "        vertical-align: middle;\n",
       "    }\n",
       "\n",
       "    .dataframe tbody tr th {\n",
       "        vertical-align: top;\n",
       "    }\n",
       "\n",
       "    .dataframe thead th {\n",
       "        text-align: right;\n",
       "    }\n",
       "</style>\n",
       "<table border=\"1\" class=\"dataframe\">\n",
       "  <thead>\n",
       "    <tr style=\"text-align: right;\">\n",
       "      <th></th>\n",
       "      <th>subreddit</th>\n",
       "      <th>title_text</th>\n",
       "      <th>title</th>\n",
       "      <th>selftext</th>\n",
       "      <th>datetime</th>\n",
       "    </tr>\n",
       "  </thead>\n",
       "  <tbody>\n",
       "    <tr>\n",
       "      <th>0</th>\n",
       "      <td>nutrition</td>\n",
       "      <td>Why are potatoes hailed as being high in prote...</td>\n",
       "      <td>Why are potatoes hailed as being high in prote...</td>\n",
       "      <td>Currently browsing Reddit for nutritious offic...</td>\n",
       "      <td>2020-12-29 02:36:52</td>\n",
       "    </tr>\n",
       "  </tbody>\n",
       "</table>\n",
       "</div>"
      ],
      "text/plain": [
       "   subreddit                                         title_text  \\\n",
       "0  nutrition  Why are potatoes hailed as being high in prote...   \n",
       "\n",
       "                                               title  \\\n",
       "0  Why are potatoes hailed as being high in prote...   \n",
       "\n",
       "                                            selftext            datetime  \n",
       "0  Currently browsing Reddit for nutritious offic... 2020-12-29 02:36:52  "
      ]
     },
     "execution_count": 23,
     "metadata": {},
     "output_type": "execute_result"
    }
   ],
   "source": [
    "nutrition_subr_df[:1]"
   ]
  },
  {
   "cell_type": "code",
   "execution_count": 16,
   "metadata": {},
   "outputs": [],
   "source": [
    "#save as a csv file\n",
    "#nutrition_subr_df.to_csv('/Users/lettywu/dsi/Projects/project_3/project_3_letty/data/nutrition_subr_raw.csv',index=False)"
   ]
  },
  {
   "cell_type": "markdown",
   "metadata": {},
   "source": [
    "---"
   ]
  },
  {
   "cell_type": "markdown",
   "metadata": {},
   "source": [
    "# pull 2000 posts from subreddit dietetics"
   ]
  },
  {
   "cell_type": "code",
   "execution_count": 36,
   "metadata": {},
   "outputs": [
    {
     "name": "stdout",
     "output_type": "stream",
     "text": [
      "res 1 code: 200\n",
      "res 2 code: 200\n",
      "res 3 code: 200\n",
      "res 4 code: 200\n",
      "res 5 code: 200\n",
      "res 6 code: 200\n",
      "res 7 code: 200\n",
      "res 8 code: 200\n",
      "res 9 code: 200\n",
      "res 10 code: 200\n",
      "res 11 code: 200\n",
      "res 12 code: 200\n",
      "res 13 code: 200\n",
      "res 14 code: 200\n",
      "res 15 code: 200\n",
      "res 16 code: 200\n",
      "res 17 code: 200\n",
      "res 18 code: 200\n",
      "res 19 code: 200\n",
      "res 20 code: 200\n"
     ]
    }
   ],
   "source": [
    "url='https://api.pushshift.io/reddit/search/submission'\n",
    "\n",
    "dfs=[]      \n",
    "loops=20\n",
    "subreddit='dietetics'\n",
    "start_time=time.time()    #return current utc time\n",
    "\n",
    "params = {'subreddit':subreddit,'size':100,'before':round(start_time)}\n",
    "                                    #before current time, so older posts\n",
    "\n",
    "for i in range(loops):   \n",
    "    #requesting data\n",
    "    res=requests.get(url,params)\n",
    "    print(f'res {i+1} code:',res.status_code)\n",
    "    \n",
    "    post_df=pd.DataFrame(res.json()['data'])\n",
    "    dfs.append(post_df)     # append dataframe from each loop into the dfs list\n",
    "    \n",
    "    #get oldest post time and use as before parameter in next request\n",
    "    oldest_utc=post_df['created_utc'].min()\n",
    "    params['before']=oldest_utc\n",
    "    \n",
    "    time.sleep(1)\n",
    "    \n",
    "dietetics_subr=pd.concat(dfs)"
   ]
  },
  {
   "cell_type": "code",
   "execution_count": 37,
   "metadata": {},
   "outputs": [],
   "source": [
    "#merge title column and selftext column\n",
    "dietetics_subr['title_text']=dietetics_subr['title']+' '+dietetics_subr['selftext']\n",
    "\n",
    "#convert the utc time to datetime\n",
    "dietetics_subr['datetime']=pd.to_datetime(dietetics_subr['created_utc'],unit='s')\n",
    "\n",
    "#create a new dataframe with columns I need to use\n",
    "dietetics_subr_df=dietetics_subr[['subreddit','title_text','title','selftext','datetime']].copy()"
   ]
  },
  {
   "cell_type": "code",
   "execution_count": 38,
   "metadata": {},
   "outputs": [
    {
     "data": {
      "text/plain": [
       "(2000, 5)"
      ]
     },
     "execution_count": 38,
     "metadata": {},
     "output_type": "execute_result"
    }
   ],
   "source": [
    "dietetics_subr_df.shape"
   ]
  },
  {
   "cell_type": "code",
   "execution_count": 39,
   "metadata": {},
   "outputs": [
    {
     "data": {
      "text/html": [
       "<div>\n",
       "<style scoped>\n",
       "    .dataframe tbody tr th:only-of-type {\n",
       "        vertical-align: middle;\n",
       "    }\n",
       "\n",
       "    .dataframe tbody tr th {\n",
       "        vertical-align: top;\n",
       "    }\n",
       "\n",
       "    .dataframe thead th {\n",
       "        text-align: right;\n",
       "    }\n",
       "</style>\n",
       "<table border=\"1\" class=\"dataframe\">\n",
       "  <thead>\n",
       "    <tr style=\"text-align: right;\">\n",
       "      <th></th>\n",
       "      <th>subreddit</th>\n",
       "      <th>title_text</th>\n",
       "      <th>title</th>\n",
       "      <th>selftext</th>\n",
       "      <th>datetime</th>\n",
       "    </tr>\n",
       "  </thead>\n",
       "  <tbody>\n",
       "    <tr>\n",
       "      <th>0</th>\n",
       "      <td>dietetics</td>\n",
       "      <td>Telehealth platforms I'm looking into HIPAA-co...</td>\n",
       "      <td>Telehealth platforms</td>\n",
       "      <td>I'm looking into HIPAA-compliant telehealth pl...</td>\n",
       "      <td>2020-12-29 02:57:27</td>\n",
       "    </tr>\n",
       "    <tr>\n",
       "      <th>1</th>\n",
       "      <td>dietetics</td>\n",
       "      <td>Becoming a dietitian at 30 with no experience....</td>\n",
       "      <td>Becoming a dietitian at 30 with no experience....</td>\n",
       "      <td>Hi guys. I'm looking into a career change and ...</td>\n",
       "      <td>2020-12-29 02:52:29</td>\n",
       "    </tr>\n",
       "    <tr>\n",
       "      <th>2</th>\n",
       "      <td>dietetics</td>\n",
       "      <td>Not sure if I’m really slow at my job or WIC m...</td>\n",
       "      <td>Not sure if I’m really slow at my job or WIC m...</td>\n",
       "      <td>So here’s a little backstory:\\nI just got a ne...</td>\n",
       "      <td>2020-12-29 02:06:19</td>\n",
       "    </tr>\n",
       "    <tr>\n",
       "      <th>3</th>\n",
       "      <td>dietetics</td>\n",
       "      <td>Trying to get hours for Community - current di...</td>\n",
       "      <td>Trying to get hours for Community - current di...</td>\n",
       "      <td>[removed]</td>\n",
       "      <td>2020-12-29 01:38:06</td>\n",
       "    </tr>\n",
       "    <tr>\n",
       "      <th>4</th>\n",
       "      <td>dietetics</td>\n",
       "      <td>Systemic mastocytosis Hi all! I received a c/s...</td>\n",
       "      <td>Systemic mastocytosis</td>\n",
       "      <td>Hi all! I received a c/s today for wt loss for...</td>\n",
       "      <td>2020-12-29 00:40:01</td>\n",
       "    </tr>\n",
       "  </tbody>\n",
       "</table>\n",
       "</div>"
      ],
      "text/plain": [
       "   subreddit                                         title_text  \\\n",
       "0  dietetics  Telehealth platforms I'm looking into HIPAA-co...   \n",
       "1  dietetics  Becoming a dietitian at 30 with no experience....   \n",
       "2  dietetics  Not sure if I’m really slow at my job or WIC m...   \n",
       "3  dietetics  Trying to get hours for Community - current di...   \n",
       "4  dietetics  Systemic mastocytosis Hi all! I received a c/s...   \n",
       "\n",
       "                                               title  \\\n",
       "0                               Telehealth platforms   \n",
       "1  Becoming a dietitian at 30 with no experience....   \n",
       "2  Not sure if I’m really slow at my job or WIC m...   \n",
       "3  Trying to get hours for Community - current di...   \n",
       "4                              Systemic mastocytosis   \n",
       "\n",
       "                                            selftext            datetime  \n",
       "0  I'm looking into HIPAA-compliant telehealth pl... 2020-12-29 02:57:27  \n",
       "1  Hi guys. I'm looking into a career change and ... 2020-12-29 02:52:29  \n",
       "2  So here’s a little backstory:\\nI just got a ne... 2020-12-29 02:06:19  \n",
       "3                                          [removed] 2020-12-29 01:38:06  \n",
       "4  Hi all! I received a c/s today for wt loss for... 2020-12-29 00:40:01  "
      ]
     },
     "execution_count": 39,
     "metadata": {},
     "output_type": "execute_result"
    }
   ],
   "source": [
    "dietetics_subr_df.head()"
   ]
  },
  {
   "cell_type": "code",
   "execution_count": 40,
   "metadata": {},
   "outputs": [],
   "source": [
    "#save to a csv file\n",
    "#dietetics_subr_df.to_csv('/Users/lettywu/dsi/Projects/project_3/project_3_letty/data/dietetics_subr_raw.csv',index=False)"
   ]
  }
 ],
 "metadata": {
  "kernelspec": {
   "display_name": "Python 3",
   "language": "python",
   "name": "python3"
  },
  "language_info": {
   "codemirror_mode": {
    "name": "ipython",
    "version": 3
   },
   "file_extension": ".py",
   "mimetype": "text/x-python",
   "name": "python",
   "nbconvert_exporter": "python",
   "pygments_lexer": "ipython3",
   "version": "3.8.5"
  }
 },
 "nbformat": 4,
 "nbformat_minor": 4
}
