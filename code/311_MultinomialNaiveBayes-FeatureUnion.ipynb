{
 "cells": [
  {
   "cell_type": "markdown",
   "metadata": {},
   "source": [
    "#### In this notebook, I am going to use Gridsearch on Naive Bayes Classifier"
   ]
  },
  {
   "cell_type": "code",
   "execution_count": 1,
   "metadata": {},
   "outputs": [],
   "source": [
    "import pandas as pd\n",
    "import matplotlib.pyplot as plt\n",
    "import seaborn as sns\n",
    "%config InlineBackend.figure_format='retina'\n",
    "from sklearn.model_selection import train_test_split, GridSearchCV, cross_val_score\n",
    "from sklearn.pipeline import Pipeline, FeatureUnion\n",
    "from sklearn.naive_bayes import MultinomialNB\n",
    "from sklearn.linear_model import LogisticRegression\n",
    "from sklearn.metrics import confusion_matrix, plot_confusion_matrix,plot_roc_curve\n",
    "from nltk import FreqDist, pos_tag\n",
    "from nltk.tokenize import word_tokenize\n",
    "from collections import Counter\n",
    "from sklearn.feature_extraction.text import CountVectorizer, TfidfVectorizer, TfidfTransformer\n",
    "import nltk\n",
    "from nltk.stem import WordNetLemmatizer\n",
    "#from nltk.corpus import stopwords\n",
    "import numpy as np\n",
    "from sklearn.preprocessing import StandardScaler, FunctionTransformer\n",
    "from sklearn.metrics import confusion_matrix, plot_confusion_matrix, classification_report"
   ]
  },
  {
   "cell_type": "code",
   "execution_count": 2,
   "metadata": {},
   "outputs": [],
   "source": [
    "nut_die=pd.read_csv('../data/nutrition_vs_dietetics.csv')"
   ]
  },
  {
   "cell_type": "code",
   "execution_count": 3,
   "metadata": {
    "scrolled": true
   },
   "outputs": [
    {
     "data": {
      "text/html": [
       "<div>\n",
       "<style scoped>\n",
       "    .dataframe tbody tr th:only-of-type {\n",
       "        vertical-align: middle;\n",
       "    }\n",
       "\n",
       "    .dataframe tbody tr th {\n",
       "        vertical-align: top;\n",
       "    }\n",
       "\n",
       "    .dataframe thead th {\n",
       "        text-align: right;\n",
       "    }\n",
       "</style>\n",
       "<table border=\"1\" class=\"dataframe\">\n",
       "  <thead>\n",
       "    <tr style=\"text-align: right;\">\n",
       "      <th></th>\n",
       "      <th>nd_subreddit</th>\n",
       "      <th>nd_title_text</th>\n",
       "      <th>nd_length</th>\n",
       "      <th>nd_word_count</th>\n",
       "      <th>nd_sentiment</th>\n",
       "    </tr>\n",
       "  </thead>\n",
       "  <tbody>\n",
       "    <tr>\n",
       "      <th>0</th>\n",
       "      <td>1</td>\n",
       "      <td>Please help me figure out what’s wrong with my...</td>\n",
       "      <td>84</td>\n",
       "      <td>12</td>\n",
       "      <td>0.2942</td>\n",
       "    </tr>\n",
       "    <tr>\n",
       "      <th>1</th>\n",
       "      <td>1</td>\n",
       "      <td>What Tests For Iron Deficiency? Looking at get...</td>\n",
       "      <td>335</td>\n",
       "      <td>54</td>\n",
       "      <td>0.6544</td>\n",
       "    </tr>\n",
       "    <tr>\n",
       "      <th>2</th>\n",
       "      <td>1</td>\n",
       "      <td>How to get protein as a picky eater? [removed]</td>\n",
       "      <td>46</td>\n",
       "      <td>9</td>\n",
       "      <td>0.0000</td>\n",
       "    </tr>\n",
       "    <tr>\n",
       "      <th>3</th>\n",
       "      <td>1</td>\n",
       "      <td>Suffering with canker sores [removed]</td>\n",
       "      <td>37</td>\n",
       "      <td>5</td>\n",
       "      <td>-0.4767</td>\n",
       "    </tr>\n",
       "    <tr>\n",
       "      <th>4</th>\n",
       "      <td>1</td>\n",
       "      <td>Good diets/work outs? I am trying to lose weig...</td>\n",
       "      <td>204</td>\n",
       "      <td>39</td>\n",
       "      <td>0.2960</td>\n",
       "    </tr>\n",
       "  </tbody>\n",
       "</table>\n",
       "</div>"
      ],
      "text/plain": [
       "   nd_subreddit                                      nd_title_text  nd_length  \\\n",
       "0             1  Please help me figure out what’s wrong with my...         84   \n",
       "1             1  What Tests For Iron Deficiency? Looking at get...        335   \n",
       "2             1     How to get protein as a picky eater? [removed]         46   \n",
       "3             1              Suffering with canker sores [removed]         37   \n",
       "4             1  Good diets/work outs? I am trying to lose weig...        204   \n",
       "\n",
       "   nd_word_count  nd_sentiment  \n",
       "0             12        0.2942  \n",
       "1             54        0.6544  \n",
       "2              9        0.0000  \n",
       "3              5       -0.4767  \n",
       "4             39        0.2960  "
      ]
     },
     "execution_count": 3,
     "metadata": {},
     "output_type": "execute_result"
    }
   ],
   "source": [
    "nut_die.head()"
   ]
  },
  {
   "cell_type": "code",
   "execution_count": 4,
   "metadata": {},
   "outputs": [
    {
     "data": {
      "text/plain": [
       "3929"
      ]
     },
     "execution_count": 4,
     "metadata": {},
     "output_type": "execute_result"
    }
   ],
   "source": [
    "len(nut_die)"
   ]
  },
  {
   "cell_type": "markdown",
   "metadata": {},
   "source": [
    "### Baseline model"
   ]
  },
  {
   "cell_type": "code",
   "execution_count": 5,
   "metadata": {},
   "outputs": [
    {
     "data": {
      "text/plain": [
       "0    0.502927\n",
       "1    0.497073\n",
       "Name: nd_subreddit, dtype: float64"
      ]
     },
     "execution_count": 5,
     "metadata": {},
     "output_type": "execute_result"
    }
   ],
   "source": [
    "nut_die['nd_subreddit'].value_counts(normalize=True)"
   ]
  },
  {
   "cell_type": "markdown",
   "metadata": {},
   "source": [
    "### Set X and y variable"
   ]
  },
  {
   "cell_type": "code",
   "execution_count": 6,
   "metadata": {},
   "outputs": [],
   "source": [
    "# separate the numerical column and the text column for FeatureUnion later\n",
    "\n",
    "get_text_data = FunctionTransformer(lambda x: x['nd_title_text'], validate = False)\n",
    "get_numeric_data = FunctionTransformer(lambda x: x[['nd_length', 'nd_word_count']], validate = False)"
   ]
  },
  {
   "cell_type": "markdown",
   "metadata": {},
   "source": [
    "**didn't use nd_sentiment here, cause MultinomialNaiveBayes doesn't take negative intergers**"
   ]
  },
  {
   "cell_type": "code",
   "execution_count": 7,
   "metadata": {},
   "outputs": [],
   "source": [
    "nut_die['nd_title_text']=nut_die['nd_title_text'].str.replace('[^\\w\\s]', '')\n",
    "\n",
    "X=nut_die[['nd_title_text','nd_length', 'nd_word_count']]\n",
    "\n",
    "y=nut_die['nd_subreddit']\n",
    "\n",
    "#after testing multiple times, when I replace all the puntuations when I set X, \n",
    "#it improves the train score with estimator using TfidfVectorizer, \n",
    "#but decrease the train score with estimator using CountVectorizer\n",
    "#Overall, doesn't make much difference"
   ]
  },
  {
   "cell_type": "code",
   "execution_count": 8,
   "metadata": {},
   "outputs": [],
   "source": [
    "X_train,X_test,y_train,y_test=train_test_split(X,y,\n",
    "                                               test_size=0.33,\n",
    "                                               stratify=y,\n",
    "                                              random_state=66)"
   ]
  },
  {
   "cell_type": "markdown",
   "metadata": {},
   "source": [
    "---"
   ]
  },
  {
   "cell_type": "markdown",
   "metadata": {},
   "source": [
    "# Naive Bayes (Multinomial Bayes) with CountVectorizer\n",
    "\n",
    "- using Multinomial Bayes here, because all of our variable will be positive integers\n",
    "- Naive Bayes classifier is calculating the probability that a post is from Nutrition subreddit given the words that are in the title&selftext\n",
    "- Naive Bayes makes the assumption that all features are independent of one another, however text data is never independent, we still use it with NLP data:\n",
    "    - it's a very fast modeling algorithm (lots of features/lots of data)\n",
    "    - it's often an excellent classifier, outperforming more complicated models\n"
   ]
  },
  {
   "cell_type": "code",
   "execution_count": 9,
   "metadata": {},
   "outputs": [],
   "source": [
    "# custimize the stopwords\n",
    "\n",
    "stopwords = nltk.corpus.stopwords.words('english')\n",
    "newstopwords=['rd','ve','does','nutrition','removed','deleted','would','ive','dont',\"'d\", \"'ll\", \"'re\", \"'s\", \"'ve\", 'could', 'might', 'must', \"n't\", 'need', 'sha', 'wo']\n",
    "stopwords.extend(newstopwords)"
   ]
  },
  {
   "cell_type": "markdown",
   "metadata": {},
   "source": [
    "` adding LemmaTokenizer into CountVectorizer`"
   ]
  },
  {
   "cell_type": "code",
   "execution_count": 10,
   "metadata": {},
   "outputs": [],
   "source": [
    "#https://scikit-learn.org/stable/modules/feature_extraction.html\n",
    "#https://stackoverflow.com/questions/50155188/lemmatization-on-countvectorizer-doesnt-remove-stopwords\n",
    "#https://stackoverflow.com/questions/47423854/sklearn-adding-lemmatizer-to-countvectorizer\n",
    "\n",
    "class LemmaTokenizer:\n",
    "    def __init__(self):\n",
    "        self.wnl=WordNetLemmatizer()\n",
    "    def __call__(self,doc):\n",
    "        return [self.wnl.lemmatize(t) for t in word_tokenize(doc) if t not in stopwords]"
   ]
  },
  {
   "cell_type": "code",
   "execution_count": 11,
   "metadata": {},
   "outputs": [],
   "source": [
    "pipe_c = Pipeline([\n",
    "    ('features', FeatureUnion([\n",
    "            ('numeric_features', Pipeline([\n",
    "                ('selector', get_numeric_data),\n",
    "                ('ss', StandardScaler(with_mean=False))\n",
    "            ])),\n",
    "            ('text_features', Pipeline([\n",
    "                ('selector', get_text_data),\n",
    "                ('cvec', CountVectorizer(tokenizer=LemmaTokenizer(),\n",
    "                                        stop_words=stopwords))\n",
    "            ]))\n",
    "    ])),('nb',MultinomialNB())])"
   ]
  },
  {
   "cell_type": "code",
   "execution_count": 12,
   "metadata": {},
   "outputs": [
    {
     "data": {
      "text/plain": [
       "0.8943705936694706"
      ]
     },
     "execution_count": 12,
     "metadata": {},
     "output_type": "execute_result"
    }
   ],
   "source": [
    "cross_val_score(pipe_c, X, y).mean()"
   ]
  },
  {
   "cell_type": "code",
   "execution_count": 13,
   "metadata": {},
   "outputs": [],
   "source": [
    "#pipe.get_params() # this is all the hyperparameters I can tune\n",
    "#pipe.get_params().keys()"
   ]
  },
  {
   "cell_type": "code",
   "execution_count": 14,
   "metadata": {},
   "outputs": [],
   "source": [
    "pipe_parames_c={'features__text_features__cvec__max_features':[2000,3000],\n",
    "             'features__text_features__cvec__min_df':[2,3],\n",
    "                'features__text_features__cvec__max_df':[.85,.8],\n",
    "             'features__text_features__cvec__ngram_range':[(1,1),(1,2)],\n",
    "              'nb__alpha':np.linspace(0.0001,1,5)} "
   ]
  },
  {
   "cell_type": "code",
   "execution_count": 15,
   "metadata": {},
   "outputs": [],
   "source": [
    "pipe_gridsearch_c=GridSearchCV(pipe_c,pipe_parames_c,cv=5)"
   ]
  },
  {
   "cell_type": "code",
   "execution_count": 16,
   "metadata": {},
   "outputs": [],
   "source": [
    "pipe_gridsearch_c.fit(X_train,y_train);"
   ]
  },
  {
   "cell_type": "code",
   "execution_count": 17,
   "metadata": {},
   "outputs": [
    {
     "data": {
      "text/plain": [
       "0.8921039530739316"
      ]
     },
     "execution_count": 17,
     "metadata": {},
     "output_type": "execute_result"
    }
   ],
   "source": [
    "pipe_gridsearch_c.best_score_"
   ]
  },
  {
   "cell_type": "code",
   "execution_count": 18,
   "metadata": {},
   "outputs": [
    {
     "data": {
      "text/plain": [
       "{'features__text_features__cvec__max_df': 0.85,\n",
       " 'features__text_features__cvec__max_features': 3000,\n",
       " 'features__text_features__cvec__min_df': 2,\n",
       " 'features__text_features__cvec__ngram_range': (1, 1),\n",
       " 'nb__alpha': 1.0}"
      ]
     },
     "execution_count": 18,
     "metadata": {},
     "output_type": "execute_result"
    }
   ],
   "source": [
    "pipe_gridsearch_c.best_params_"
   ]
  },
  {
   "cell_type": "code",
   "execution_count": 19,
   "metadata": {},
   "outputs": [
    {
     "data": {
      "text/plain": [
       "0.9145136778115501"
      ]
     },
     "execution_count": 19,
     "metadata": {},
     "output_type": "execute_result"
    }
   ],
   "source": [
    "train_score_c=pipe_gridsearch_c.score(X_train,y_train)\n",
    "train_score_c"
   ]
  },
  {
   "cell_type": "code",
   "execution_count": 20,
   "metadata": {},
   "outputs": [
    {
     "data": {
      "text/plain": [
       "0.9059367771781033"
      ]
     },
     "execution_count": 20,
     "metadata": {},
     "output_type": "execute_result"
    }
   ],
   "source": [
    "test_score_c=pipe_gridsearch_c.score(X_test,y_test)\n",
    "test_score_c"
   ]
  },
  {
   "cell_type": "code",
   "execution_count": 21,
   "metadata": {},
   "outputs": [
    {
     "data": {
      "text/plain": [
       "0.008576900633446849"
      ]
     },
     "execution_count": 21,
     "metadata": {},
     "output_type": "execute_result"
    }
   ],
   "source": [
    "train_score_c-test_score_c # overfit a little"
   ]
  },
  {
   "cell_type": "code",
   "execution_count": 22,
   "metadata": {},
   "outputs": [
    {
     "data": {
      "text/plain": [
       "array([1, 0, 1, ..., 0, 1, 1])"
      ]
     },
     "execution_count": 22,
     "metadata": {},
     "output_type": "execute_result"
    }
   ],
   "source": [
    "y_pred_c=pipe_gridsearch_c.predict(X_test)\n",
    "y_pred_c"
   ]
  },
  {
   "cell_type": "code",
   "execution_count": 23,
   "metadata": {},
   "outputs": [
    {
     "name": "stdout",
     "output_type": "stream",
     "text": [
      "              precision    recall  f1-score   support\n",
      "\n",
      "           0       0.91      0.90      0.91       652\n",
      "           1       0.90      0.91      0.91       645\n",
      "\n",
      "    accuracy                           0.91      1297\n",
      "   macro avg       0.91      0.91      0.91      1297\n",
      "weighted avg       0.91      0.91      0.91      1297\n",
      "\n"
     ]
    }
   ],
   "source": [
    "print(classification_report(y_test,y_pred_c))"
   ]
  },
  {
   "cell_type": "code",
   "execution_count": 24,
   "metadata": {},
   "outputs": [
    {
     "data": {
      "image/png": "[encoded data removed]",
      "text/plain": [
       "<Figure size 432x288 with 2 Axes>"
      ]
     },
     "metadata": {
      "image/png": {
       "height": 283,
       "width": 370
      }
     },
     "output_type": "display_data"
    },
    {
     "data": {
      "text/plain": [
       "<Figure size 1440x720 with 0 Axes>"
      ]
     },
     "metadata": {},
     "output_type": "display_data"
    }
   ],
   "source": [
    "#confusion matrix for Naive Bayes\n",
    "\n",
    "sns.set(font_scale=1)\n",
    "sns.set_style('white')\n",
    "\n",
    "plot_confusion_matrix(pipe_gridsearch_c, X_test, y_test, cmap='Blues', \n",
    "                      display_labels=['Dietetics', 'Nutrition'])\n",
    "\n",
    "plt.title('MultinomialNB Confusion Matrix with CountVectorizer',size=15)\n",
    "\n",
    "plt.figure(figsize=(20,10));"
   ]
  },
  {
   "cell_type": "code",
   "execution_count": 25,
   "metadata": {},
   "outputs": [
    {
     "data": {
      "image/png": "[encoded data removed]",
      "text/plain": [
       "<Figure size 432x288 with 1 Axes>"
      ]
     },
     "metadata": {
      "image/png": {
       "height": 283,
       "width": 389
      }
     },
     "output_type": "display_data"
    },
    {
     "data": {
      "text/plain": [
       "<Figure size 1440x720 with 0 Axes>"
      ]
     },
     "metadata": {},
     "output_type": "display_data"
    }
   ],
   "source": [
    "#Receiver Operating Characteristic for Naive Bayes\n",
    "\n",
    "sns.set(font_scale=1)\n",
    "sns.set_style('white')\n",
    "\n",
    "plot_roc_curve(pipe_gridsearch_c,X_test,y_test)\n",
    "\n",
    "plt.title('MultinomialNB ROC Curve with CountVectorizer',size=15)\n",
    "plt.figure(figsize=(20,10));"
   ]
  },
  {
   "cell_type": "markdown",
   "metadata": {},
   "source": [
    "### Features and Coefficients"
   ]
  },
  {
   "cell_type": "code",
   "execution_count": 26,
   "metadata": {},
   "outputs": [
    {
     "name": "stderr",
     "output_type": "stream",
     "text": [
      "/Users/lettywu/.local/lib/python3.8/site-packages/sklearn/utils/deprecation.py:101: FutureWarning: Attribute coef_ was deprecated in version 0.24 and will be removed in 1.1 (renaming of 0.26).\n",
      "  warnings.warn(msg, category=FutureWarning)\n"
     ]
    }
   ],
   "source": [
    "features = pipe_gridsearch_c.best_estimator_.named_steps['features'].transformer_list[1][1].named_steps['cvec'].get_feature_names()\n",
    "coefficients =pipe_gridsearch_c.best_estimator_.named_steps['nb'].coef_[0]"
   ]
  },
  {
   "cell_type": "code",
   "execution_count": 27,
   "metadata": {},
   "outputs": [
    {
     "data": {
      "text/plain": [
       "3000"
      ]
     },
     "execution_count": 27,
     "metadata": {},
     "output_type": "execute_result"
    }
   ],
   "source": [
    "len(features) "
   ]
  },
  {
   "cell_type": "code",
   "execution_count": 28,
   "metadata": {
    "scrolled": true
   },
   "outputs": [
    {
     "data": {
      "text/plain": [
       "3002"
      ]
     },
     "execution_count": 28,
     "metadata": {},
     "output_type": "execute_result"
    }
   ],
   "source": [
    "len(coefficients)"
   ]
  },
  {
   "cell_type": "markdown",
   "metadata": {},
   "source": [
    "we have coefficients for numerical and text feature, but the features out of CountVectorizer are just for the text feature, so we have to add the numerical features menually"
   ]
  },
  {
   "cell_type": "code",
   "execution_count": 29,
   "metadata": {},
   "outputs": [],
   "source": [
    "#create a df for the features and coef\n",
    "\n",
    "fe_co_c_df=pd.DataFrame({'features': ['nd_length', 'nd_word_count']+ features, \n",
    "              'coef' : coefficients,\n",
    "              'exp_coef': [np.exp(coef) for coef in coefficients]})"
   ]
  },
  {
   "cell_type": "code",
   "execution_count": 30,
   "metadata": {},
   "outputs": [
    {
     "data": {
      "text/html": [
       "<div>\n",
       "<style scoped>\n",
       "    .dataframe tbody tr th:only-of-type {\n",
       "        vertical-align: middle;\n",
       "    }\n",
       "\n",
       "    .dataframe tbody tr th {\n",
       "        vertical-align: top;\n",
       "    }\n",
       "\n",
       "    .dataframe thead th {\n",
       "        text-align: right;\n",
       "    }\n",
       "</style>\n",
       "<table border=\"1\" class=\"dataframe\">\n",
       "  <thead>\n",
       "    <tr style=\"text-align: right;\">\n",
       "      <th></th>\n",
       "      <th>features</th>\n",
       "      <th>coef</th>\n",
       "      <th>exp_coef</th>\n",
       "    </tr>\n",
       "  </thead>\n",
       "  <tbody>\n",
       "    <tr>\n",
       "      <th>0</th>\n",
       "      <td>nd_length</td>\n",
       "      <td>-3.654219</td>\n",
       "      <td>0.025882</td>\n",
       "    </tr>\n",
       "    <tr>\n",
       "      <th>1</th>\n",
       "      <td>nd_word_count</td>\n",
       "      <td>-3.681125</td>\n",
       "      <td>0.025195</td>\n",
       "    </tr>\n",
       "    <tr>\n",
       "      <th>2</th>\n",
       "      <td>0</td>\n",
       "      <td>-8.265978</td>\n",
       "      <td>0.000257</td>\n",
       "    </tr>\n",
       "    <tr>\n",
       "      <th>3</th>\n",
       "      <td>025</td>\n",
       "      <td>-10.345420</td>\n",
       "      <td>0.000032</td>\n",
       "    </tr>\n",
       "    <tr>\n",
       "      <th>4</th>\n",
       "      <td>04</td>\n",
       "      <td>-9.652272</td>\n",
       "      <td>0.000064</td>\n",
       "    </tr>\n",
       "  </tbody>\n",
       "</table>\n",
       "</div>"
      ],
      "text/plain": [
       "        features       coef  exp_coef\n",
       "0      nd_length  -3.654219  0.025882\n",
       "1  nd_word_count  -3.681125  0.025195\n",
       "2              0  -8.265978  0.000257\n",
       "3            025 -10.345420  0.000032\n",
       "4             04  -9.652272  0.000064"
      ]
     },
     "execution_count": 30,
     "metadata": {},
     "output_type": "execute_result"
    }
   ],
   "source": [
    "fe_co_c_df.head()"
   ]
  },
  {
   "cell_type": "code",
   "execution_count": 31,
   "metadata": {
    "scrolled": false
   },
   "outputs": [
    {
     "data": {
      "text/html": [
       "<div>\n",
       "<style scoped>\n",
       "    .dataframe tbody tr th:only-of-type {\n",
       "        vertical-align: middle;\n",
       "    }\n",
       "\n",
       "    .dataframe tbody tr th {\n",
       "        vertical-align: top;\n",
       "    }\n",
       "\n",
       "    .dataframe thead th {\n",
       "        text-align: right;\n",
       "    }\n",
       "</style>\n",
       "<table border=\"1\" class=\"dataframe\">\n",
       "  <thead>\n",
       "    <tr style=\"text-align: right;\">\n",
       "      <th></th>\n",
       "      <th>features</th>\n",
       "      <th>coef</th>\n",
       "      <th>exp_coef</th>\n",
       "    </tr>\n",
       "  </thead>\n",
       "  <tbody>\n",
       "    <tr>\n",
       "      <th>0</th>\n",
       "      <td>nd_length</td>\n",
       "      <td>-3.654219</td>\n",
       "      <td>0.025882</td>\n",
       "    </tr>\n",
       "    <tr>\n",
       "      <th>1</th>\n",
       "      <td>nd_word_count</td>\n",
       "      <td>-3.681125</td>\n",
       "      <td>0.025195</td>\n",
       "    </tr>\n",
       "    <tr>\n",
       "      <th>1138</th>\n",
       "      <td>food</td>\n",
       "      <td>-4.467684</td>\n",
       "      <td>0.011474</td>\n",
       "    </tr>\n",
       "    <tr>\n",
       "      <th>1380</th>\n",
       "      <td>im</td>\n",
       "      <td>-4.655060</td>\n",
       "      <td>0.009513</td>\n",
       "    </tr>\n",
       "    <tr>\n",
       "      <th>824</th>\n",
       "      <td>diet</td>\n",
       "      <td>-4.890098</td>\n",
       "      <td>0.007521</td>\n",
       "    </tr>\n",
       "    <tr>\n",
       "      <th>2112</th>\n",
       "      <td>protein</td>\n",
       "      <td>-4.894381</td>\n",
       "      <td>0.007489</td>\n",
       "    </tr>\n",
       "    <tr>\n",
       "      <th>447</th>\n",
       "      <td>calorie</td>\n",
       "      <td>-4.993561</td>\n",
       "      <td>0.006781</td>\n",
       "    </tr>\n",
       "    <tr>\n",
       "      <th>912</th>\n",
       "      <td>eat</td>\n",
       "      <td>-5.037152</td>\n",
       "      <td>0.006492</td>\n",
       "    </tr>\n",
       "    <tr>\n",
       "      <th>750</th>\n",
       "      <td>day</td>\n",
       "      <td>-5.062216</td>\n",
       "      <td>0.006332</td>\n",
       "    </tr>\n",
       "    <tr>\n",
       "      <th>1579</th>\n",
       "      <td>like</td>\n",
       "      <td>-5.093146</td>\n",
       "      <td>0.006139</td>\n",
       "    </tr>\n",
       "    <tr>\n",
       "      <th>915</th>\n",
       "      <td>eating</td>\n",
       "      <td>-5.130484</td>\n",
       "      <td>0.005914</td>\n",
       "    </tr>\n",
       "    <tr>\n",
       "      <th>2869</th>\n",
       "      <td>vitamin</td>\n",
       "      <td>-5.174936</td>\n",
       "      <td>0.005657</td>\n",
       "    </tr>\n",
       "    <tr>\n",
       "      <th>1518</th>\n",
       "      <td>know</td>\n",
       "      <td>-5.192128</td>\n",
       "      <td>0.005560</td>\n",
       "    </tr>\n",
       "    <tr>\n",
       "      <th>1070</th>\n",
       "      <td>fat</td>\n",
       "      <td>-5.227426</td>\n",
       "      <td>0.005367</td>\n",
       "    </tr>\n",
       "    <tr>\n",
       "      <th>2909</th>\n",
       "      <td>weight</td>\n",
       "      <td>-5.233432</td>\n",
       "      <td>0.005335</td>\n",
       "    </tr>\n",
       "    <tr>\n",
       "      <th>1786</th>\n",
       "      <td>much</td>\n",
       "      <td>-5.289174</td>\n",
       "      <td>0.005046</td>\n",
       "    </tr>\n",
       "    <tr>\n",
       "      <th>1889</th>\n",
       "      <td>one</td>\n",
       "      <td>-5.301994</td>\n",
       "      <td>0.004982</td>\n",
       "    </tr>\n",
       "    <tr>\n",
       "      <th>1199</th>\n",
       "      <td>get</td>\n",
       "      <td>-5.308467</td>\n",
       "      <td>0.004950</td>\n",
       "    </tr>\n",
       "    <tr>\n",
       "      <th>2616</th>\n",
       "      <td>sugar</td>\n",
       "      <td>-5.396660</td>\n",
       "      <td>0.004532</td>\n",
       "    </tr>\n",
       "    <tr>\n",
       "      <th>1287</th>\n",
       "      <td>healthy</td>\n",
       "      <td>-5.485607</td>\n",
       "      <td>0.004146</td>\n",
       "    </tr>\n",
       "  </tbody>\n",
       "</table>\n",
       "</div>"
      ],
      "text/plain": [
       "           features      coef  exp_coef\n",
       "0         nd_length -3.654219  0.025882\n",
       "1     nd_word_count -3.681125  0.025195\n",
       "1138           food -4.467684  0.011474\n",
       "1380             im -4.655060  0.009513\n",
       "824            diet -4.890098  0.007521\n",
       "2112        protein -4.894381  0.007489\n",
       "447         calorie -4.993561  0.006781\n",
       "912             eat -5.037152  0.006492\n",
       "750             day -5.062216  0.006332\n",
       "1579           like -5.093146  0.006139\n",
       "915          eating -5.130484  0.005914\n",
       "2869        vitamin -5.174936  0.005657\n",
       "1518           know -5.192128  0.005560\n",
       "1070            fat -5.227426  0.005367\n",
       "2909         weight -5.233432  0.005335\n",
       "1786           much -5.289174  0.005046\n",
       "1889            one -5.301994  0.004982\n",
       "1199            get -5.308467  0.004950\n",
       "2616          sugar -5.396660  0.004532\n",
       "1287        healthy -5.485607  0.004146"
      ]
     },
     "execution_count": 31,
     "metadata": {},
     "output_type": "execute_result"
    }
   ],
   "source": [
    "# sort the df by exp_coef, some of the most important words to predict nutrition subreddit\n",
    "\n",
    "fe_co_c_df.sort_values(by=['exp_coef'],ascending=False).head(20)"
   ]
  },
  {
   "cell_type": "code",
   "execution_count": 59,
   "metadata": {},
   "outputs": [
    {
     "data": {
      "text/html": [
       "<div>\n",
       "<style scoped>\n",
       "    .dataframe tbody tr th:only-of-type {\n",
       "        vertical-align: middle;\n",
       "    }\n",
       "\n",
       "    .dataframe tbody tr th {\n",
       "        vertical-align: top;\n",
       "    }\n",
       "\n",
       "    .dataframe thead th {\n",
       "        text-align: right;\n",
       "    }\n",
       "</style>\n",
       "<table border=\"1\" class=\"dataframe\">\n",
       "  <thead>\n",
       "    <tr style=\"text-align: right;\">\n",
       "      <th></th>\n",
       "      <th>features</th>\n",
       "      <th>coef</th>\n",
       "      <th>exp_coef</th>\n",
       "    </tr>\n",
       "  </thead>\n",
       "  <tbody>\n",
       "    <tr>\n",
       "      <th>3001</th>\n",
       "      <td>zoom</td>\n",
       "      <td>-10.34542</td>\n",
       "      <td>0.000032</td>\n",
       "    </tr>\n",
       "    <tr>\n",
       "      <th>1131</th>\n",
       "      <td>focusing</td>\n",
       "      <td>-10.34542</td>\n",
       "      <td>0.000032</td>\n",
       "    </tr>\n",
       "    <tr>\n",
       "      <th>2966</th>\n",
       "      <td>wouldve</td>\n",
       "      <td>-10.34542</td>\n",
       "      <td>0.000032</td>\n",
       "    </tr>\n",
       "    <tr>\n",
       "      <th>1139</th>\n",
       "      <td>foodservice</td>\n",
       "      <td>-10.34542</td>\n",
       "      <td>0.000032</td>\n",
       "    </tr>\n",
       "    <tr>\n",
       "      <th>1145</th>\n",
       "      <td>former</td>\n",
       "      <td>-10.34542</td>\n",
       "      <td>0.000032</td>\n",
       "    </tr>\n",
       "    <tr>\n",
       "      <th>1155</th>\n",
       "      <td>freedom</td>\n",
       "      <td>-10.34542</td>\n",
       "      <td>0.000032</td>\n",
       "    </tr>\n",
       "    <tr>\n",
       "      <th>1157</th>\n",
       "      <td>frequency</td>\n",
       "      <td>-10.34542</td>\n",
       "      <td>0.000032</td>\n",
       "    </tr>\n",
       "    <tr>\n",
       "      <th>1166</th>\n",
       "      <td>front</td>\n",
       "      <td>-10.34542</td>\n",
       "      <td>0.000032</td>\n",
       "    </tr>\n",
       "    <tr>\n",
       "      <th>1174</th>\n",
       "      <td>fte</td>\n",
       "      <td>-10.34542</td>\n",
       "      <td>0.000032</td>\n",
       "    </tr>\n",
       "    <tr>\n",
       "      <th>1178</th>\n",
       "      <td>fulltime</td>\n",
       "      <td>-10.34542</td>\n",
       "      <td>0.000032</td>\n",
       "    </tr>\n",
       "    <tr>\n",
       "      <th>1208</th>\n",
       "      <td>glad</td>\n",
       "      <td>-10.34542</td>\n",
       "      <td>0.000032</td>\n",
       "    </tr>\n",
       "    <tr>\n",
       "      <th>1210</th>\n",
       "      <td>glucerna</td>\n",
       "      <td>-10.34542</td>\n",
       "      <td>0.000032</td>\n",
       "    </tr>\n",
       "    <tr>\n",
       "      <th>1226</th>\n",
       "      <td>government</td>\n",
       "      <td>-10.34542</td>\n",
       "      <td>0.000032</td>\n",
       "    </tr>\n",
       "    <tr>\n",
       "      <th>1128</th>\n",
       "      <td>fnce</td>\n",
       "      <td>-10.34542</td>\n",
       "      <td>0.000032</td>\n",
       "    </tr>\n",
       "    <tr>\n",
       "      <th>1227</th>\n",
       "      <td>gpa</td>\n",
       "      <td>-10.34542</td>\n",
       "      <td>0.000032</td>\n",
       "    </tr>\n",
       "  </tbody>\n",
       "</table>\n",
       "</div>"
      ],
      "text/plain": [
       "         features      coef  exp_coef\n",
       "3001         zoom -10.34542  0.000032\n",
       "1131     focusing -10.34542  0.000032\n",
       "2966      wouldve -10.34542  0.000032\n",
       "1139  foodservice -10.34542  0.000032\n",
       "1145       former -10.34542  0.000032\n",
       "1155      freedom -10.34542  0.000032\n",
       "1157    frequency -10.34542  0.000032\n",
       "1166        front -10.34542  0.000032\n",
       "1174          fte -10.34542  0.000032\n",
       "1178     fulltime -10.34542  0.000032\n",
       "1208         glad -10.34542  0.000032\n",
       "1210     glucerna -10.34542  0.000032\n",
       "1226   government -10.34542  0.000032\n",
       "1128         fnce -10.34542  0.000032\n",
       "1227          gpa -10.34542  0.000032"
      ]
     },
     "execution_count": 59,
     "metadata": {},
     "output_type": "execute_result"
    }
   ],
   "source": [
    "# sort the df by exp_coef, some of the most important words to predict dietetics subreddit\n",
    "\n",
    "fe_co_c_df.sort_values(by=['exp_coef']).head(15)\n",
    "\n",
    "# which is interesting, that I couldn't relate some of the words to dietetics subreddit\n",
    "# fte and fnce are probably some technical abbreviations"
   ]
  },
  {
   "cell_type": "markdown",
   "metadata": {},
   "source": [
    "---"
   ]
  },
  {
   "cell_type": "markdown",
   "metadata": {},
   "source": [
    "# Naive Bayes (Multinomial Bayes) with TfidfVectorizer"
   ]
  },
  {
   "cell_type": "code",
   "execution_count": 33,
   "metadata": {},
   "outputs": [],
   "source": [
    "# customized the stopwords\n",
    "\n",
    "stopwords = nltk.corpus.stopwords.words('english')\n",
    "newstopwords=['rd','ve','does','nutrition','removed','deleted','would','ive','dont',\"'d\", \"'ll\", \"'re\", \"'s\", \"'ve\", 'could', 'might', 'must', \"n't\", 'need', 'sha', 'wo']\n",
    "stopwords.extend(newstopwords)"
   ]
  },
  {
   "cell_type": "markdown",
   "metadata": {},
   "source": [
    "` adding LemmaTokenizer into TfidfVectorizer`"
   ]
  },
  {
   "cell_type": "code",
   "execution_count": 34,
   "metadata": {},
   "outputs": [],
   "source": [
    "#https://scikit-learn.org/stable/modules/feature_extraction.html\n",
    "#https://stackoverflow.com/questions/50155188/lemmatization-on-countvectorizer-doesnt-remove-stopwords\n",
    "#https://stackoverflow.com/questions/47423854/sklearn-adding-lemmatizer-to-countvectorizer\n",
    "\n",
    "class LemmaTokenizer:\n",
    "    def __init__(self):\n",
    "        self.wnl=WordNetLemmatizer()\n",
    "    def __call__(self,doc):\n",
    "        return [self.wnl.lemmatize(t) for t in word_tokenize(doc) if t not in stopwords]"
   ]
  },
  {
   "cell_type": "code",
   "execution_count": 35,
   "metadata": {},
   "outputs": [],
   "source": [
    "pipe_t = Pipeline([\n",
    "    ('features', FeatureUnion([\n",
    "            ('numeric_features', Pipeline([\n",
    "                ('selector', get_numeric_data),\n",
    "                ('ss', StandardScaler(with_mean=False))\n",
    "            ])),\n",
    "            ('text_features', Pipeline([\n",
    "                ('selector', get_text_data),\n",
    "                ('tvec', TfidfVectorizer(tokenizer=LemmaTokenizer(),\n",
    "                                        stop_words=stopwords))\n",
    "            ]))\n",
    "    ])),('nb',MultinomialNB())])"
   ]
  },
  {
   "cell_type": "code",
   "execution_count": 36,
   "metadata": {},
   "outputs": [
    {
     "data": {
      "text/plain": [
       "0.8755407529861753"
      ]
     },
     "execution_count": 36,
     "metadata": {},
     "output_type": "execute_result"
    }
   ],
   "source": [
    "cross_val_score(pipe_t, X, y).mean()"
   ]
  },
  {
   "cell_type": "code",
   "execution_count": 37,
   "metadata": {},
   "outputs": [],
   "source": [
    "#pipe.get_params() # this is all the hyperparameters I can tune\n",
    "#pipe.get_parames().keys()"
   ]
  },
  {
   "cell_type": "code",
   "execution_count": 38,
   "metadata": {},
   "outputs": [],
   "source": [
    "pipe_parames_t={'features__text_features__tvec__max_features':[2000,3000],\n",
    "             'features__text_features__tvec__min_df':[2,3],\n",
    "                'features__text_features__tvec__max_df':[.7,.75],\n",
    "             'features__text_features__tvec__ngram_range':[(1,1),(1,2)],\n",
    "             'nb__alpha':np.linspace(0.0001,1,5)} "
   ]
  },
  {
   "cell_type": "code",
   "execution_count": 39,
   "metadata": {},
   "outputs": [],
   "source": [
    "pipe_gridsearch_t=GridSearchCV(pipe_t,pipe_parames_t,cv=5)"
   ]
  },
  {
   "cell_type": "code",
   "execution_count": 40,
   "metadata": {},
   "outputs": [],
   "source": [
    "pipe_gridsearch_t.fit(X_train,y_train);"
   ]
  },
  {
   "cell_type": "code",
   "execution_count": 41,
   "metadata": {},
   "outputs": [
    {
     "data": {
      "text/plain": [
       "0.8917251679280813"
      ]
     },
     "execution_count": 41,
     "metadata": {},
     "output_type": "execute_result"
    }
   ],
   "source": [
    "pipe_gridsearch_t.best_score_"
   ]
  },
  {
   "cell_type": "code",
   "execution_count": 42,
   "metadata": {},
   "outputs": [
    {
     "data": {
      "text/html": [
       "<div>\n",
       "<style scoped>\n",
       "    .dataframe tbody tr th:only-of-type {\n",
       "        vertical-align: middle;\n",
       "    }\n",
       "\n",
       "    .dataframe tbody tr th {\n",
       "        vertical-align: top;\n",
       "    }\n",
       "\n",
       "    .dataframe thead th {\n",
       "        text-align: right;\n",
       "    }\n",
       "</style>\n",
       "<table border=\"1\" class=\"dataframe\">\n",
       "  <thead>\n",
       "    <tr style=\"text-align: right;\">\n",
       "      <th></th>\n",
       "      <th>mean_fit_time</th>\n",
       "      <th>std_fit_time</th>\n",
       "      <th>mean_score_time</th>\n",
       "      <th>std_score_time</th>\n",
       "      <th>param_features__text_features__tvec__max_df</th>\n",
       "      <th>param_features__text_features__tvec__max_features</th>\n",
       "      <th>param_features__text_features__tvec__min_df</th>\n",
       "      <th>param_features__text_features__tvec__ngram_range</th>\n",
       "      <th>param_nb__alpha</th>\n",
       "      <th>params</th>\n",
       "      <th>split0_test_score</th>\n",
       "      <th>split1_test_score</th>\n",
       "      <th>split2_test_score</th>\n",
       "      <th>split3_test_score</th>\n",
       "      <th>split4_test_score</th>\n",
       "      <th>mean_test_score</th>\n",
       "      <th>std_test_score</th>\n",
       "      <th>rank_test_score</th>\n",
       "    </tr>\n",
       "  </thead>\n",
       "  <tbody>\n",
       "    <tr>\n",
       "      <th>0</th>\n",
       "      <td>1.297272</td>\n",
       "      <td>0.01178</td>\n",
       "      <td>0.320335</td>\n",
       "      <td>0.014705</td>\n",
       "      <td>0.7</td>\n",
       "      <td>2000</td>\n",
       "      <td>2</td>\n",
       "      <td>(1, 1)</td>\n",
       "      <td>0.0001</td>\n",
       "      <td>{'features__text_features__tvec__max_df': 0.7,...</td>\n",
       "      <td>0.878558</td>\n",
       "      <td>0.857685</td>\n",
       "      <td>0.89924</td>\n",
       "      <td>0.880228</td>\n",
       "      <td>0.895437</td>\n",
       "      <td>0.88223</td>\n",
       "      <td>0.014722</td>\n",
       "      <td>65</td>\n",
       "    </tr>\n",
       "  </tbody>\n",
       "</table>\n",
       "</div>"
      ],
      "text/plain": [
       "   mean_fit_time  std_fit_time  mean_score_time  std_score_time  \\\n",
       "0       1.297272       0.01178         0.320335        0.014705   \n",
       "\n",
       "  param_features__text_features__tvec__max_df  \\\n",
       "0                                         0.7   \n",
       "\n",
       "  param_features__text_features__tvec__max_features  \\\n",
       "0                                              2000   \n",
       "\n",
       "  param_features__text_features__tvec__min_df  \\\n",
       "0                                           2   \n",
       "\n",
       "  param_features__text_features__tvec__ngram_range param_nb__alpha  \\\n",
       "0                                           (1, 1)          0.0001   \n",
       "\n",
       "                                              params  split0_test_score  \\\n",
       "0  {'features__text_features__tvec__max_df': 0.7,...           0.878558   \n",
       "\n",
       "   split1_test_score  split2_test_score  split3_test_score  split4_test_score  \\\n",
       "0           0.857685            0.89924           0.880228           0.895437   \n",
       "\n",
       "   mean_test_score  std_test_score  rank_test_score  \n",
       "0          0.88223        0.014722               65  "
      ]
     },
     "execution_count": 42,
     "metadata": {},
     "output_type": "execute_result"
    }
   ],
   "source": [
    "# create a df for the TfidfVectorizer result\n",
    "\n",
    "df=pd.DataFrame(pipe_gridsearch_t.cv_results_)\n",
    "df.head(1)"
   ]
  },
  {
   "cell_type": "code",
   "execution_count": 43,
   "metadata": {},
   "outputs": [
    {
     "data": {
      "text/plain": [
       "{'features__text_features__tvec__max_df': 0.7,\n",
       " 'features__text_features__tvec__max_features': 2000,\n",
       " 'features__text_features__tvec__min_df': 2,\n",
       " 'features__text_features__tvec__ngram_range': (1, 1),\n",
       " 'nb__alpha': 0.50005}"
      ]
     },
     "execution_count": 43,
     "metadata": {},
     "output_type": "execute_result"
    }
   ],
   "source": [
    "pipe_gridsearch_t.best_params_"
   ]
  },
  {
   "cell_type": "code",
   "execution_count": 44,
   "metadata": {
    "scrolled": true
   },
   "outputs": [
    {
     "data": {
      "text/plain": [
       "0.9198328267477204"
      ]
     },
     "execution_count": 44,
     "metadata": {},
     "output_type": "execute_result"
    }
   ],
   "source": [
    "train_score_t=pipe_gridsearch_t.score(X_train,y_train)\n",
    "train_score_t"
   ]
  },
  {
   "cell_type": "code",
   "execution_count": 45,
   "metadata": {},
   "outputs": [
    {
     "data": {
      "text/plain": [
       "0.9067077872012336"
      ]
     },
     "execution_count": 45,
     "metadata": {},
     "output_type": "execute_result"
    }
   ],
   "source": [
    "test_score_t=pipe_gridsearch_t.score(X_test,y_test)\n",
    "test_score_t"
   ]
  },
  {
   "cell_type": "code",
   "execution_count": 46,
   "metadata": {},
   "outputs": [
    {
     "data": {
      "text/plain": [
       "0.013125039546486805"
      ]
     },
     "execution_count": 46,
     "metadata": {},
     "output_type": "execute_result"
    }
   ],
   "source": [
    "train_score_t-test_score_t \n",
    "\n",
    "#also overfit here, but the score improved a little overall, very similar to the\n",
    "# previous model with CountVectorizer"
   ]
  },
  {
   "cell_type": "code",
   "execution_count": 47,
   "metadata": {},
   "outputs": [
    {
     "data": {
      "text/plain": [
       "array([1, 0, 1, ..., 0, 1, 1])"
      ]
     },
     "execution_count": 47,
     "metadata": {},
     "output_type": "execute_result"
    }
   ],
   "source": [
    "y_pred_t=pipe_gridsearch_t.predict(X_test)\n",
    "y_pred_t"
   ]
  },
  {
   "cell_type": "code",
   "execution_count": 48,
   "metadata": {},
   "outputs": [
    {
     "name": "stdout",
     "output_type": "stream",
     "text": [
      "              precision    recall  f1-score   support\n",
      "\n",
      "           0       0.91      0.90      0.91       652\n",
      "           1       0.90      0.91      0.91       645\n",
      "\n",
      "    accuracy                           0.91      1297\n",
      "   macro avg       0.91      0.91      0.91      1297\n",
      "weighted avg       0.91      0.91      0.91      1297\n",
      "\n"
     ]
    }
   ],
   "source": [
    "print(classification_report(y_test,y_pred_t))"
   ]
  },
  {
   "cell_type": "code",
   "execution_count": 49,
   "metadata": {},
   "outputs": [
    {
     "data": {
      "image/png": "[encoded data removed]",
      "text/plain": [
       "<Figure size 432x288 with 2 Axes>"
      ]
     },
     "metadata": {
      "image/png": {
       "height": 283,
       "width": 362
      }
     },
     "output_type": "display_data"
    },
    {
     "data": {
      "text/plain": [
       "<Figure size 1440x720 with 0 Axes>"
      ]
     },
     "metadata": {},
     "output_type": "display_data"
    }
   ],
   "source": [
    "#confusion matrix for Naive Bayes\n",
    "\n",
    "sns.set(font_scale=1)\n",
    "sns.set_style('white')\n",
    "\n",
    "plot_confusion_matrix(pipe_gridsearch_t, X_test, y_test, cmap='Blues', \n",
    "                      display_labels=['Dietetics', 'Nutrition'])\n",
    "\n",
    "plt.title('MultinomialNB Confusion Matrix with TfidfVectorizer',size=15)\n",
    "\n",
    "plt.figure(figsize=(20,10));"
   ]
  },
  {
   "cell_type": "code",
   "execution_count": 50,
   "metadata": {
    "scrolled": true
   },
   "outputs": [
    {
     "data": {
      "image/png": "[encoded data removed]",
      "text/plain": [
       "<Figure size 432x288 with 1 Axes>"
      ]
     },
     "metadata": {
      "image/png": {
       "height": 283,
       "width": 389
      }
     },
     "output_type": "display_data"
    },
    {
     "data": {
      "text/plain": [
       "<Figure size 1440x720 with 0 Axes>"
      ]
     },
     "metadata": {},
     "output_type": "display_data"
    }
   ],
   "source": [
    "#Receiver Operating Characteristic for Naive Bayes\n",
    "\n",
    "sns.set(font_scale=1)\n",
    "sns.set_style('white')\n",
    "\n",
    "plot_roc_curve(pipe_gridsearch_t,X_test,y_test)\n",
    "\n",
    "plt.title('MultinomialNB ROC Curve with TfidfVectorizer',size=15)\n",
    "plt.figure(figsize=(20,10));"
   ]
  },
  {
   "cell_type": "markdown",
   "metadata": {},
   "source": [
    "### Features and Coefficients"
   ]
  },
  {
   "cell_type": "code",
   "execution_count": 51,
   "metadata": {},
   "outputs": [
    {
     "name": "stderr",
     "output_type": "stream",
     "text": [
      "/Users/lettywu/.local/lib/python3.8/site-packages/sklearn/utils/deprecation.py:101: FutureWarning: Attribute coef_ was deprecated in version 0.24 and will be removed in 1.1 (renaming of 0.26).\n",
      "  warnings.warn(msg, category=FutureWarning)\n"
     ]
    }
   ],
   "source": [
    "features = pipe_gridsearch_t.best_estimator_.named_steps['features'].transformer_list[1][1].named_steps['tvec'].get_feature_names()\n",
    "coefficients = pipe_gridsearch_t.best_estimator_.named_steps['nb'].coef_[0]\n",
    "\n",
    "fe_co_t_df=pd.DataFrame({'features': ['nd_length', 'nd_word_count']+ features, \n",
    "              'coef' : coefficients,\n",
    "              'exp_coef': [np.exp(coef) for coef in coefficients]})"
   ]
  },
  {
   "cell_type": "code",
   "execution_count": 52,
   "metadata": {},
   "outputs": [
    {
     "data": {
      "text/html": [
       "<div>\n",
       "<style scoped>\n",
       "    .dataframe tbody tr th:only-of-type {\n",
       "        vertical-align: middle;\n",
       "    }\n",
       "\n",
       "    .dataframe tbody tr th {\n",
       "        vertical-align: top;\n",
       "    }\n",
       "\n",
       "    .dataframe thead th {\n",
       "        text-align: right;\n",
       "    }\n",
       "</style>\n",
       "<table border=\"1\" class=\"dataframe\">\n",
       "  <thead>\n",
       "    <tr style=\"text-align: right;\">\n",
       "      <th></th>\n",
       "      <th>features</th>\n",
       "      <th>coef</th>\n",
       "      <th>exp_coef</th>\n",
       "    </tr>\n",
       "  </thead>\n",
       "  <tbody>\n",
       "    <tr>\n",
       "      <th>0</th>\n",
       "      <td>nd_length</td>\n",
       "      <td>-2.105013</td>\n",
       "      <td>0.121844</td>\n",
       "    </tr>\n",
       "    <tr>\n",
       "      <th>1</th>\n",
       "      <td>nd_word_count</td>\n",
       "      <td>-2.131936</td>\n",
       "      <td>0.118607</td>\n",
       "    </tr>\n",
       "    <tr>\n",
       "      <th>2</th>\n",
       "      <td>0</td>\n",
       "      <td>-8.585202</td>\n",
       "      <td>0.000187</td>\n",
       "    </tr>\n",
       "    <tr>\n",
       "      <th>3</th>\n",
       "      <td>1</td>\n",
       "      <td>-7.311512</td>\n",
       "      <td>0.000668</td>\n",
       "    </tr>\n",
       "    <tr>\n",
       "      <th>4</th>\n",
       "      <td>10</td>\n",
       "      <td>-7.262622</td>\n",
       "      <td>0.000701</td>\n",
       "    </tr>\n",
       "  </tbody>\n",
       "</table>\n",
       "</div>"
      ],
      "text/plain": [
       "        features      coef  exp_coef\n",
       "0      nd_length -2.105013  0.121844\n",
       "1  nd_word_count -2.131936  0.118607\n",
       "2              0 -8.585202  0.000187\n",
       "3              1 -7.311512  0.000668\n",
       "4             10 -7.262622  0.000701"
      ]
     },
     "execution_count": 52,
     "metadata": {},
     "output_type": "execute_result"
    }
   ],
   "source": [
    "fe_co_t_df.head()"
   ]
  },
  {
   "cell_type": "code",
   "execution_count": 53,
   "metadata": {},
   "outputs": [
    {
     "data": {
      "text/html": [
       "<div>\n",
       "<style scoped>\n",
       "    .dataframe tbody tr th:only-of-type {\n",
       "        vertical-align: middle;\n",
       "    }\n",
       "\n",
       "    .dataframe tbody tr th {\n",
       "        vertical-align: top;\n",
       "    }\n",
       "\n",
       "    .dataframe thead th {\n",
       "        text-align: right;\n",
       "    }\n",
       "</style>\n",
       "<table border=\"1\" class=\"dataframe\">\n",
       "  <thead>\n",
       "    <tr style=\"text-align: right;\">\n",
       "      <th></th>\n",
       "      <th>features</th>\n",
       "      <th>coef</th>\n",
       "      <th>exp_coef</th>\n",
       "    </tr>\n",
       "  </thead>\n",
       "  <tbody>\n",
       "    <tr>\n",
       "      <th>0</th>\n",
       "      <td>nd_length</td>\n",
       "      <td>-2.105013</td>\n",
       "      <td>0.121844</td>\n",
       "    </tr>\n",
       "    <tr>\n",
       "      <th>1</th>\n",
       "      <td>nd_word_count</td>\n",
       "      <td>-2.131936</td>\n",
       "      <td>0.118607</td>\n",
       "    </tr>\n",
       "    <tr>\n",
       "      <th>740</th>\n",
       "      <td>food</td>\n",
       "      <td>-5.046675</td>\n",
       "      <td>0.006431</td>\n",
       "    </tr>\n",
       "    <tr>\n",
       "      <th>1941</th>\n",
       "      <td>weight</td>\n",
       "      <td>-5.146879</td>\n",
       "      <td>0.005818</td>\n",
       "    </tr>\n",
       "    <tr>\n",
       "      <th>534</th>\n",
       "      <td>diet</td>\n",
       "      <td>-5.228621</td>\n",
       "      <td>0.005361</td>\n",
       "    </tr>\n",
       "    <tr>\n",
       "      <th>1427</th>\n",
       "      <td>protein</td>\n",
       "      <td>-5.233337</td>\n",
       "      <td>0.005336</td>\n",
       "    </tr>\n",
       "    <tr>\n",
       "      <th>592</th>\n",
       "      <td>eat</td>\n",
       "      <td>-5.387899</td>\n",
       "      <td>0.004572</td>\n",
       "    </tr>\n",
       "    <tr>\n",
       "      <th>1919</th>\n",
       "      <td>vitamin</td>\n",
       "      <td>-5.405365</td>\n",
       "      <td>0.004492</td>\n",
       "    </tr>\n",
       "    <tr>\n",
       "      <th>290</th>\n",
       "      <td>calorie</td>\n",
       "      <td>-5.461138</td>\n",
       "      <td>0.004249</td>\n",
       "    </tr>\n",
       "    <tr>\n",
       "      <th>594</th>\n",
       "      <td>eating</td>\n",
       "      <td>-5.514470</td>\n",
       "      <td>0.004028</td>\n",
       "    </tr>\n",
       "    <tr>\n",
       "      <th>693</th>\n",
       "      <td>fat</td>\n",
       "      <td>-5.569192</td>\n",
       "      <td>0.003814</td>\n",
       "    </tr>\n",
       "    <tr>\n",
       "      <th>862</th>\n",
       "      <td>help</td>\n",
       "      <td>-5.585734</td>\n",
       "      <td>0.003751</td>\n",
       "    </tr>\n",
       "    <tr>\n",
       "      <th>495</th>\n",
       "      <td>day</td>\n",
       "      <td>-5.613408</td>\n",
       "      <td>0.003649</td>\n",
       "    </tr>\n",
       "    <tr>\n",
       "      <th>853</th>\n",
       "      <td>healthy</td>\n",
       "      <td>-5.662165</td>\n",
       "      <td>0.003475</td>\n",
       "    </tr>\n",
       "    <tr>\n",
       "      <th>920</th>\n",
       "      <td>im</td>\n",
       "      <td>-5.709415</td>\n",
       "      <td>0.003315</td>\n",
       "    </tr>\n",
       "  </tbody>\n",
       "</table>\n",
       "</div>"
      ],
      "text/plain": [
       "           features      coef  exp_coef\n",
       "0         nd_length -2.105013  0.121844\n",
       "1     nd_word_count -2.131936  0.118607\n",
       "740            food -5.046675  0.006431\n",
       "1941         weight -5.146879  0.005818\n",
       "534            diet -5.228621  0.005361\n",
       "1427        protein -5.233337  0.005336\n",
       "592             eat -5.387899  0.004572\n",
       "1919        vitamin -5.405365  0.004492\n",
       "290         calorie -5.461138  0.004249\n",
       "594          eating -5.514470  0.004028\n",
       "693             fat -5.569192  0.003814\n",
       "862            help -5.585734  0.003751\n",
       "495             day -5.613408  0.003649\n",
       "853         healthy -5.662165  0.003475\n",
       "920              im -5.709415  0.003315"
      ]
     },
     "execution_count": 53,
     "metadata": {},
     "output_type": "execute_result"
    }
   ],
   "source": [
    "fe_co_t_df.sort_values(by=['exp_coef'],ascending=False).head(15)\n",
    "\n",
    "# here are the top 15 important words to predict nutrition subreddit"
   ]
  },
  {
   "cell_type": "code",
   "execution_count": 56,
   "metadata": {},
   "outputs": [
    {
     "data": {
      "text/html": [
       "<div>\n",
       "<style scoped>\n",
       "    .dataframe tbody tr th:only-of-type {\n",
       "        vertical-align: middle;\n",
       "    }\n",
       "\n",
       "    .dataframe tbody tr th {\n",
       "        vertical-align: top;\n",
       "    }\n",
       "\n",
       "    .dataframe thead th {\n",
       "        text-align: right;\n",
       "    }\n",
       "</style>\n",
       "<table border=\"1\" class=\"dataframe\">\n",
       "  <thead>\n",
       "    <tr style=\"text-align: right;\">\n",
       "      <th></th>\n",
       "      <th>features</th>\n",
       "      <th>coef</th>\n",
       "      <th>exp_coef</th>\n",
       "    </tr>\n",
       "  </thead>\n",
       "  <tbody>\n",
       "    <tr>\n",
       "      <th>1691</th>\n",
       "      <td>specialty</td>\n",
       "      <td>-9.48864</td>\n",
       "      <td>0.000076</td>\n",
       "    </tr>\n",
       "    <tr>\n",
       "      <th>1434</th>\n",
       "      <td>providing</td>\n",
       "      <td>-9.48864</td>\n",
       "      <td>0.000076</td>\n",
       "    </tr>\n",
       "    <tr>\n",
       "      <th>335</th>\n",
       "      <td>chem</td>\n",
       "      <td>-9.48864</td>\n",
       "      <td>0.000076</td>\n",
       "    </tr>\n",
       "    <tr>\n",
       "      <th>1435</th>\n",
       "      <td>psychology</td>\n",
       "      <td>-9.48864</td>\n",
       "      <td>0.000076</td>\n",
       "    </tr>\n",
       "    <tr>\n",
       "      <th>329</th>\n",
       "      <td>charting</td>\n",
       "      <td>-9.48864</td>\n",
       "      <td>0.000076</td>\n",
       "    </tr>\n",
       "    <tr>\n",
       "      <th>728</th>\n",
       "      <td>florida</td>\n",
       "      <td>-9.48864</td>\n",
       "      <td>0.000076</td>\n",
       "    </tr>\n",
       "    <tr>\n",
       "      <th>1442</th>\n",
       "      <td>pursue</td>\n",
       "      <td>-9.48864</td>\n",
       "      <td>0.000076</td>\n",
       "    </tr>\n",
       "    <tr>\n",
       "      <th>322</th>\n",
       "      <td>ceus</td>\n",
       "      <td>-9.48864</td>\n",
       "      <td>0.000076</td>\n",
       "    </tr>\n",
       "    <tr>\n",
       "      <th>321</th>\n",
       "      <td>ceu</td>\n",
       "      <td>-9.48864</td>\n",
       "      <td>0.000076</td>\n",
       "    </tr>\n",
       "    <tr>\n",
       "      <th>319</th>\n",
       "      <td>certification</td>\n",
       "      <td>-9.48864</td>\n",
       "      <td>0.000076</td>\n",
       "    </tr>\n",
       "    <tr>\n",
       "      <th>1433</th>\n",
       "      <td>provides</td>\n",
       "      <td>-9.48864</td>\n",
       "      <td>0.000076</td>\n",
       "    </tr>\n",
       "    <tr>\n",
       "      <th>1443</th>\n",
       "      <td>pursuing</td>\n",
       "      <td>-9.48864</td>\n",
       "      <td>0.000076</td>\n",
       "    </tr>\n",
       "    <tr>\n",
       "      <th>314</th>\n",
       "      <td>census</td>\n",
       "      <td>-9.48864</td>\n",
       "      <td>0.000076</td>\n",
       "    </tr>\n",
       "    <tr>\n",
       "      <th>732</th>\n",
       "      <td>fnce</td>\n",
       "      <td>-9.48864</td>\n",
       "      <td>0.000076</td>\n",
       "    </tr>\n",
       "    <tr>\n",
       "      <th>312</th>\n",
       "      <td>cdr</td>\n",
       "      <td>-9.48864</td>\n",
       "      <td>0.000076</td>\n",
       "    </tr>\n",
       "  </tbody>\n",
       "</table>\n",
       "</div>"
      ],
      "text/plain": [
       "           features     coef  exp_coef\n",
       "1691      specialty -9.48864  0.000076\n",
       "1434      providing -9.48864  0.000076\n",
       "335            chem -9.48864  0.000076\n",
       "1435     psychology -9.48864  0.000076\n",
       "329        charting -9.48864  0.000076\n",
       "728         florida -9.48864  0.000076\n",
       "1442         pursue -9.48864  0.000076\n",
       "322            ceus -9.48864  0.000076\n",
       "321             ceu -9.48864  0.000076\n",
       "319   certification -9.48864  0.000076\n",
       "1433       provides -9.48864  0.000076\n",
       "1443       pursuing -9.48864  0.000076\n",
       "314          census -9.48864  0.000076\n",
       "732            fnce -9.48864  0.000076\n",
       "312             cdr -9.48864  0.000076"
      ]
     },
     "execution_count": 56,
     "metadata": {},
     "output_type": "execute_result"
    }
   ],
   "source": [
    "fe_co_t_df.sort_values(by=['exp_coef']).head(15)\n",
    "\n",
    "# here are the top 15 important words to predict dietetics subreddit\n",
    "# which makes more sense to me compare to the important words from CountVectorizer"
   ]
  },
  {
   "cell_type": "markdown",
   "metadata": {},
   "source": [
    "**the important words I found out from MultinomialNaiveBayes for dietetics subreddits are kind different compare to important words I found from LogRegression to predicting dietetics subreddits. Which is really interesting, I assume this would related to how the algorithm works in the back.**"
   ]
  },
  {
   "cell_type": "code",
   "execution_count": null,
   "metadata": {},
   "outputs": [],
   "source": []
  }
 ],
 "metadata": {
  "kernelspec": {
   "display_name": "Python 3",
   "language": "python",
   "name": "python3"
  },
  "language_info": {
   "codemirror_mode": {
    "name": "ipython",
    "version": 3
   },
   "file_extension": ".py",
   "mimetype": "text/x-python",
   "name": "python",
   "nbconvert_exporter": "python",
   "pygments_lexer": "ipython3",
   "version": "3.8.5"
  }
 },
 "nbformat": 4,
 "nbformat_minor": 4
}
